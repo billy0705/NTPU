{
 "cells": [
  {
   "cell_type": "code",
   "execution_count": 1,
   "metadata": {},
   "outputs": [
    {
     "name": "stderr",
     "output_type": "stream",
     "text": [
      "Using TensorFlow backend.\n"
     ]
    }
   ],
   "source": [
    "from keras import layers, models\n",
    "\n",
    "train_dir = \"./dataset2/train\"\n",
    "validation_dir = \"./dataset2/validation\""
   ]
  },
  {
   "cell_type": "code",
   "execution_count": 2,
   "metadata": {
    "scrolled": true
   },
   "outputs": [
    {
     "name": "stdout",
     "output_type": "stream",
     "text": [
      "Model: \"sequential_1\"\n",
      "_________________________________________________________________\n",
      "Layer (type)                 Output Shape              Param #   \n",
      "=================================================================\n",
      "conv2d_1 (Conv2D)            (None, 26, 26, 32)        320       \n",
      "_________________________________________________________________\n",
      "max_pooling2d_1 (MaxPooling2 (None, 13, 13, 32)        0         \n",
      "_________________________________________________________________\n",
      "flatten_1 (Flatten)          (None, 5408)              0         \n",
      "_________________________________________________________________\n",
      "dense_1 (Dense)              (None, 20)                108180    \n",
      "_________________________________________________________________\n",
      "dense_2 (Dense)              (None, 5)                 105       \n",
      "=================================================================\n",
      "Total params: 108,605\n",
      "Trainable params: 108,605\n",
      "Non-trainable params: 0\n",
      "_________________________________________________________________\n"
     ]
    }
   ],
   "source": [
    "model = models.Sequential()\n",
    "model.add(layers.Conv2D(32, (3, 3), activation = 'relu', input_shape = (28, 28, 1)))\n",
    "model.add(layers.MaxPooling2D((2, 2)))\n",
    "model.add(layers.Flatten())\n",
    "model.add(layers.Dense(20, activation = 'relu'))\n",
    "model.add(layers.Dense(5, activation = 'sigmoid'))\n",
    "\n",
    "model.summary()"
   ]
  },
  {
   "cell_type": "code",
   "execution_count": 8,
   "metadata": {},
   "outputs": [],
   "source": [
    "from keras import callbacks\n",
    "\n",
    "callbacks_list = [callbacks.ReduceLROnPlateau(\n",
    "                            monitor = 'val_loss',\n",
    "                            factor = 0.1,\n",
    "                            patience = 3,\n",
    "                            verbose = 1),\n",
    "                       callbacks.EarlyStopping(\n",
    "                            monitor = 'val_loss',\n",
    "                            patience = 8,\n",
    "                            restore_best_weights = True,\n",
    "                            verbose = 1)]"
   ]
  },
  {
   "cell_type": "code",
   "execution_count": 9,
   "metadata": {},
   "outputs": [],
   "source": [
    "from keras import optimizers\n",
    "\n",
    "model.compile(loss = 'mean_squared_error',\n",
    "                     optimizer = optimizers.SGD(lr = 1e-4, momentum=0.9),\n",
    "                     metrics = ['accuracy'])"
   ]
  },
  {
   "cell_type": "code",
   "execution_count": 10,
   "metadata": {},
   "outputs": [
    {
     "name": "stdout",
     "output_type": "stream",
     "text": [
      "Found 16000 images belonging to 5 classes.\n",
      "Found 4000 images belonging to 5 classes.\n"
     ]
    }
   ],
   "source": [
    "from keras.preprocessing.image import ImageDataGenerator\n",
    "\n",
    "train_datagen = ImageDataGenerator(rescale=1./255)\n",
    "test_datagen = ImageDataGenerator(rescale=1./255)\n",
    "\n",
    "train_generator = train_datagen.flow_from_directory(\n",
    "    train_dir,\n",
    "    target_size = (28, 28),\n",
    "    color_mode = 'grayscale',\n",
    "    batch_size = 1,\n",
    "    class_mode = 'categorical')\n",
    "\n",
    "validation_generator = test_datagen.flow_from_directory(\n",
    "    validation_dir,\n",
    "    target_size = (28, 28),\n",
    "    color_mode = 'grayscale',\n",
    "    batch_size = 1,\n",
    "    class_mode = 'categorical')"
   ]
  },
  {
   "cell_type": "code",
   "execution_count": 11,
   "metadata": {},
   "outputs": [
    {
     "name": "stdout",
     "output_type": "stream",
     "text": [
      "Epoch 1/200\n",
      "16000/16000 [==============================] - 20s 1ms/step - loss: 0.0301 - accuracy: 0.9327 - val_loss: 5.9933e-04 - val_accuracy: 0.9358\n",
      "Epoch 2/200\n",
      "16000/16000 [==============================] - 21s 1ms/step - loss: 0.0248 - accuracy: 0.9422 - val_loss: 0.0119 - val_accuracy: 0.9408\n",
      "Epoch 3/200\n",
      "16000/16000 [==============================] - 22s 1ms/step - loss: 0.0221 - accuracy: 0.9473 - val_loss: 0.0412 - val_accuracy: 0.9433\n",
      "Epoch 4/200\n",
      "16000/16000 [==============================] - 2961s 185ms/step - loss: 0.0202 - accuracy: 0.9506 - val_loss: 0.0182 - val_accuracy: 0.9470\n",
      "\n",
      "Epoch 00004: ReduceLROnPlateau reducing learning rate to 9.999999747378752e-06.\n",
      "Epoch 5/200\n",
      "16000/16000 [==============================] - 1750s 109ms/step - loss: 0.0192 - accuracy: 0.9526 - val_loss: 0.0242 - val_accuracy: 0.9473\n",
      "Epoch 6/200\n",
      "16000/16000 [==============================] - 21s 1ms/step - loss: 0.0190 - accuracy: 0.9530 - val_loss: 6.2045e-04 - val_accuracy: 0.9475\n",
      "Epoch 7/200\n",
      "16000/16000 [==============================] - 21s 1ms/step - loss: 0.0189 - accuracy: 0.9534 - val_loss: 0.1647 - val_accuracy: 0.9482\n",
      "\n",
      "Epoch 00007: ReduceLROnPlateau reducing learning rate to 9.999999747378752e-07.\n",
      "Epoch 8/200\n",
      "16000/16000 [==============================] - 21s 1ms/step - loss: 0.0188 - accuracy: 0.9539 - val_loss: 0.1548 - val_accuracy: 0.9482\n",
      "Epoch 9/200\n",
      "16000/16000 [==============================] - 836s 52ms/step - loss: 0.0188 - accuracy: 0.9539 - val_loss: 0.0020 - val_accuracy: 0.9482\n",
      "Restoring model weights from the end of the best epoch\n",
      "Epoch 00009: early stopping\n"
     ]
    }
   ],
   "source": [
    "history = model.fit_generator(\n",
    "    train_generator,\n",
    "    steps_per_epoch = 16000,\n",
    "    epochs = 200,\n",
    "    validation_data = validation_generator, \n",
    "    validation_steps = 4000,\n",
    "    callbacks = callbacks_list)"
   ]
  },
  {
   "cell_type": "code",
   "execution_count": 8,
   "metadata": {},
   "outputs": [
    {
     "data": {
      "image/png": "[encoded data removed]",
      "text/plain": [
       "<Figure size 432x288 with 1 Axes>"
      ]
     },
     "metadata": {
      "needs_background": "light"
     },
     "output_type": "display_data"
    },
    {
     "data": {
      "image/png": "[encoded data removed]",
      "text/plain": [
       "<Figure size 432x288 with 1 Axes>"
      ]
     },
     "metadata": {
      "needs_background": "light"
     },
     "output_type": "display_data"
    }
   ],
   "source": [
    "import matplotlib.pyplot as plt\n",
    "\n",
    "acc = history.history['accuracy']\n",
    "val_acc = history.history['val_accuracy']\n",
    "loss = history.history['loss']\n",
    "val_loss = history.history['val_loss']\n",
    "\n",
    "epochs = range(1, len(acc) + 1)\n",
    "\n",
    "plt.plot(epochs, acc, 'bo', label = 'Training acc')\n",
    "plt.plot(epochs, val_acc, 'b', label = 'Validation acc')\n",
    "plt.title('Training and Validation accurey')\n",
    "plt.legend()\n",
    "\n",
    "plt.figure()\n",
    "plt.plot(epochs, loss, 'bo', label = 'Training loss')\n",
    "plt.plot(epochs, val_loss, 'b', label = 'Validation loss')\n",
    "plt.title('Training and Validation loss')\n",
    "plt.legend()\n",
    "\n",
    "plt.show()"
   ]
  },
  {
   "cell_type": "code",
   "execution_count": 20,
   "metadata": {},
   "outputs": [
    {
     "name": "stdout",
     "output_type": "stream",
     "text": [
      "Finish 5000\n"
     ]
    }
   ],
   "source": [
    "import os\n",
    "from keras.preprocessing import image\n",
    "import numpy as np\n",
    "\n",
    "predict_dir = \"/Volumes/ADATA HD330/hw2/02468\"\n",
    "predict_list = os.listdir(predict_dir)\n",
    "#print(predict_list)\n",
    "predict_list.sort(key=lambda x:int(x[:-4]))\n",
    "f = open('Answer.txt', 'w', encoding = 'UTF-8')\n",
    "n=0\n",
    "for img_name in predict_list:\n",
    "    img = os.path.join(predict_dir, img_name)\n",
    "    img = image.load_img(img, target_size=(28, 28), color_mode='grayscale')\n",
    "    img = image.img_to_array(img)\n",
    "    img = np.expand_dims(img, axis=0)\n",
    "    img = img/255.\n",
    "    #img = preprocess_input(img)\n",
    "    pred = model.predict_classes(img)\n",
    "    #print(pred)\n",
    "    out = img_name[:-4] + ' ' + str(pred[0]*2) + '\\n'\n",
    "    f.write(out)\n",
    "    n = n+1\n",
    "\n",
    "f.close()\n",
    "print('Finish', n)"
   ]
  },
  {
   "cell_type": "code",
   "execution_count": 7,
   "metadata": {},
   "outputs": [
    {
     "name": "stdout",
     "output_type": "stream",
     "text": [
      "[[765   8   1   9  17]\n",
      " [  9 695  25  30  41]\n",
      " [  4   6 754  10  26]\n",
      " [ 11  19  12 747  11]\n",
      " [ 20  20  21   9 730]]\n",
      "Acc =  0.92275\n"
     ]
    }
   ],
   "source": [
    "import os\n",
    "from keras.preprocessing import image\n",
    "import numpy as np\n",
    "\n",
    "data_dir = \"./dataset2/validation\"\n",
    "#data_dir = \"./training\"\n",
    "# predict_dir_list = os.listdir(predict_dir)\n",
    "# predict_dir_list.sort(key=lambda x:int(x))\n",
    "predict_matrix = np.zeros((5, 5), dtype=int)\n",
    "n = 0\n",
    "\n",
    "for i in range(0, 10, 2):\n",
    "    predict_dir = os.path.join(data_dir, str(i))\n",
    "    predict_list = os.listdir(predict_dir)\n",
    "    predict_list.sort(key=lambda x:int(x[:-4]))\n",
    "    for imgn in predict_list:\n",
    "        img = os.path.join(predict_dir, imgn)\n",
    "        img = image.load_img(img, target_size=(28, 28), color_mode='grayscale')\n",
    "        img = image.img_to_array(img)\n",
    "        img = np.expand_dims(img, axis=0)\n",
    "        img = img/255.\n",
    "        pred = model.predict_classes(img)\n",
    "        j = i/2\n",
    "#         if int(j) == 4 and pred == 1:\n",
    "#             img = os.path.join(predict_dir, imgn)\n",
    "#             img = image.load_img(img, target_size=(28, 28), color_mode='grayscale')\n",
    "#             print(img.size)\n",
    "#             plt.imshow(img)\n",
    "#             plt.show()\n",
    "#             break\n",
    "        predict_matrix[int(j)][pred] += 1\n",
    "        n += 1\n",
    "        \n",
    "print(predict_matrix)\n",
    "s = 0\n",
    "for i in range(5):\n",
    "    s += predict_matrix[i][i] \n",
    "    \n",
    "print(\"Acc = \", s/n)\n",
    "# for img in predict_list:\n",
    "#     img = os.path.join(predict_dir, img)\n",
    "#     img = image.load_img(img, target_size=(28, 28), color_mode='grayscale')\n",
    "#     img = image.img_to_array(img)\n",
    "#     img = np.expand_dims(img, axis=0)\n",
    "#     img = img/255.\n",
    "#     #print(img)\n",
    "#     #img = preprocess_input(img)\n",
    "#     pred = model.predict_classes(img)\n",
    "#     if pred == 0:\n",
    "#         a += 1\n",
    "#     #print(pred)\n",
    "#     #break\n",
    "\n",
    "# print(a/len(predict_list))\n",
    "# print(a)"
   ]
  },
  {
   "cell_type": "code",
   "execution_count": 23,
   "metadata": {},
   "outputs": [
    {
     "name": "stdout",
     "output_type": "stream",
     "text": [
      "Tensor(\"conv2d_1/Relu:0\", shape=(None, 26, 26, 32), dtype=float32)\n"
     ]
    }
   ],
   "source": [
    "layer_output = model.model.get_layer(\"conv2d_1\").output\n",
    "print(layer_output)"
   ]
  },
  {
   "cell_type": "code",
   "execution_count": null,
   "metadata": {},
   "outputs": [],
   "source": []
  }
 ],
 "metadata": {
  "kernelspec": {
   "display_name": "Python 3",
   "language": "python",
   "name": "python3"
  },
  "language_info": {
   "codemirror_mode": {
    "name": "ipython",
    "version": 3
   },
   "file_extension": ".py",
   "mimetype": "text/x-python",
   "name": "python",
   "nbconvert_exporter": "python",
   "pygments_lexer": "ipython3",
   "version": "3.7.5"
  }
 },
 "nbformat": 4,
 "nbformat_minor": 2
}
