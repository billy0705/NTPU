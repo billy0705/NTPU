{
 "cells": [
  {
   "cell_type": "code",
   "execution_count": 1,
   "metadata": {},
   "outputs": [],
   "source": [
    "import os\n",
    "import matplotlib.pyplot as plt\n",
    "import matplotlib.image as mpimg\n",
    "import numpy as np\n",
    "import math\n",
    "import random\n",
    "import time"
   ]
  },
  {
   "cell_type": "code",
   "execution_count": 2,
   "metadata": {},
   "outputs": [
    {
     "name": "stdout",
     "output_type": "stream",
     "text": [
      "train : 14400 data in 4 classes.\n",
      "validation : 1600 data in 4 classes.\n",
      "['2', '3', '8', '9']\n"
     ]
    }
   ],
   "source": [
    "base_dir = \"./dataset2\"\n",
    "\n",
    "train_dir = os.path.join(base_dir, \"train\")\n",
    "validation_dir = os.path.join(base_dir, \"validation\")\n",
    "train_class_list = os.listdir(train_dir)\n",
    "train_class_list.sort(key=lambda x:int(x))\n",
    "validation_class_list = os.listdir(validation_dir)\n",
    "validation_class_list.sort(key=lambda x:int(x))\n",
    "\n",
    "train_data_dir = {}\n",
    "train_data_list = {}\n",
    "validation_data_dir = {}\n",
    "validation_data_list = {}\n",
    "train_sum = 0\n",
    "vali_sum = 0\n",
    "for i in range(len(train_class_list)):\n",
    "    train_data_dir[i] = os.path.join(train_dir, train_class_list[i])\n",
    "    train_data_list[i] = os.listdir(train_data_dir[i])\n",
    "    train_sum += len(train_data_list[i])\n",
    "    validation_data_dir[i] = os.path.join(validation_dir, validation_class_list[i])\n",
    "    validation_data_list[i] = os.listdir(validation_data_dir[i])\n",
    "    vali_sum += len(validation_data_list[i])\n",
    "\n",
    "print(\"train :\", train_sum, \"data in\", len(train_class_list), \"classes.\")\n",
    "print(\"validation :\", vali_sum, \"data in\", len(validation_class_list), \"classes.\")\n",
    "class_num = len(train_class_list)\n",
    "print(train_class_list)"
   ]
  },
  {
   "cell_type": "code",
   "execution_count": 3,
   "metadata": {},
   "outputs": [
    {
     "name": "stdout",
     "output_type": "stream",
     "text": [
      "\n",
      "input layer\t\t 784\n",
      "hidden layer 1 \t 16\n",
      "output layer\t 4\n"
     ]
    }
   ],
   "source": [
    "layer_node = {}\n",
    "layer_node[0] = 28*28\n",
    "layer_node[1] = 16\n",
    "# layer_node[3] = 64\n",
    "# layer_node[4] = 32\n",
    "# layer_node[5] = 4\n",
    "layer_node[2] = class_num\n",
    "for i in range(len(layer_node)):\n",
    "    if i == 0:\n",
    "        print(\"\\ninput layer\\t\\t\", layer_node[i])\n",
    "    elif i == len(layer_node)-1:\n",
    "        print(\"output layer\\t\", layer_node[i])\n",
    "    else:\n",
    "        print(\"hidden layer\", i, \"\\t\", layer_node[i])\n",
    "\n",
    "A = {}\n",
    "delta = {}\n",
    "W = {}\n",
    "delta_W = {}\n",
    "for i in range(len(layer_node) - 1):\n",
    "    A[i] = np.zeros((layer_node[i + 1]), dtype=float)\n",
    "    delta[i] = np.zeros((layer_node[i + 1]), dtype=float)\n",
    "    # W[i] = np.ones((layer_node[i + 1], layer_node[i]), dtype=float)\n",
    "    W[i] = np.random.normal(size=(layer_node[i + 1], layer_node[i]))\n",
    "    delta_W[i] = np.zeros((layer_node[i + 1], layer_node[i]), dtype=float)"
   ]
  },
  {
   "cell_type": "code",
   "execution_count": 18,
   "metadata": {},
   "outputs": [
    {
     "name": "stdout",
     "output_type": "stream",
     "text": [
      "epoch 1 : Train_MSE = 0.0365 Train_ACC = 0.91 Validation_MSE = 0.0301 Validation_ACC = 0.93 Time = 65\n",
      "epoch 2 : Train_MSE = 0.0337 Train_ACC = 0.92 Validation_MSE = 0.0293 Validation_ACC = 0.93 Time = 64\n",
      "epoch 3 : Train_MSE = 0.0371 Train_ACC = 0.91 Validation_MSE = 0.0330 Validation_ACC = 0.92 Time = 67\n",
      "[0. 0. 1. 0.]\n",
      "[[8.06430087e-01]\n",
      " [4.60466843e-06]\n",
      " [3.60758763e-03]\n",
      " [1.00735062e-01]]\n"
     ]
    }
   ],
   "source": [
    "epochs = 3\n",
    "train_batchs = 1000\n",
    "validation_batchs = 800\n",
    "lr = 0.5\n",
    "stop_MSE = 0.001\n",
    "\n",
    "history = np.zeros((4, epochs), dtype=float)\n",
    "train_ACC = np.zeros(train_batchs, dtype=float)\n",
    "train_MSE = np.zeros(train_batchs, dtype=float)\n",
    "validation_ACC = np.zeros(validation_batchs, dtype=float)\n",
    "validation_MSE = np.zeros(validation_batchs, dtype=float)\n",
    "done = False\n",
    "\n",
    "for epoch in range(epochs):\n",
    "    time_S = time.time()\n",
    "    for batch in range(train_batchs):\n",
    "        class_int = random.randint(0, class_num-1)\n",
    "        list_int = random.randint(0, len(train_data_list[class_int])-1)\n",
    "        img_dir = os.path.join(train_dir, train_class_list[class_int], train_data_list[class_int][list_int])\n",
    "        # class_int = 0\n",
    "        # img_dir = \"./dataset/train/0/0001.png\"\n",
    "        img = mpimg.imread(img_dir)\n",
    "        img = img - 0.5\n",
    "        img.resize((layer_node[0], 1))\n",
    "        O = np.zeros(class_num, dtype=float)\n",
    "        O[class_int] = 1\n",
    "        # O[0] = 1\n",
    "        # if epoch == epochs-1: print(O)\n",
    "\n",
    "        \"\"\" Forward \"\"\"\n",
    "        for k in range(len(layer_node) - 1):\n",
    "            if k == 0:\n",
    "                A[k] = np.dot(W[k], img)\n",
    "            else:\n",
    "                A[k] = np.dot(W[k], A[k-1])\n",
    "            for i in range(len(A[k])):\n",
    "                A[k][i] = 1. / (1. + math.exp(-A[k][i]))\n",
    "\n",
    "        \"\"\"ACC\"\"\"\n",
    "        ANS = A[len(layer_node)-2].tolist()\n",
    "        maximum = max(ANS)\n",
    "        ans = ANS.index(maximum)\n",
    "        if class_int == ans:\n",
    "            train_ACC[batch] = 1.\n",
    "        else:\n",
    "            train_ACC[batch] = 0.\n",
    "        # print(ans)\n",
    "\n",
    "        \"\"\" MSE \"\"\"\n",
    "        MSE = 0.\n",
    "        for i in range(len(O)):\n",
    "            MSE += pow((O[i] - A[len(layer_node)-2][i]), 2)\n",
    "        MSE /= len(O)\n",
    "        train_MSE[batch] = MSE\n",
    "        outstr = 'epoch ' + str(epoch+1) + \" {:.2f}\".format((batch/train_batchs)*100) + \"% : MSE = \" + \"{:.6f}\".format(train_MSE[batch])\n",
    "        print(outstr, end=\"\\r\", flush=True)\n",
    "#         print(\"\\repoch\", epoch+1, \"{:.2f}\".format((batch/train_batchs)*100),\n",
    "#               \"% : MSE =\", \"{:.6f}\".format(train_MSE[batch]), end=\"\\r\", flush=True)\n",
    "\n",
    "\n",
    "        \"\"\" Delta \"\"\"\n",
    "        for k in range(len(layer_node)-1, 0, -1):\n",
    "            if k == len(layer_node) - 1:\n",
    "                for j in range(layer_node[k]):\n",
    "                    delta[k - 1][j] = (O[j] - A[k - 1][j]) * A[k - 1][j] * (1 - A[k - 1][j])\n",
    "            else:\n",
    "                for j in range(layer_node[k]):\n",
    "                    delta[k-1][j] = 0.\n",
    "                    for i in range(layer_node[k+1]):\n",
    "                        delta[k-1][j] += W[k][i][j] * delta[k][i]\n",
    "                    delta[k-1][j] = delta[k-1][j] * A[k-1][j] * (1 - A[k-1][j])\n",
    "\n",
    "        \"\"\"Learning Rule\"\"\"\n",
    "        for k in range(len(layer_node) - 1):\n",
    "            for j in range(layer_node[k + 1]):\n",
    "                for i in range(layer_node[k]):\n",
    "                    if k == 0:\n",
    "                        delta_W[k][j][i] = lr * delta[k][j] * img[i]\n",
    "                    else:\n",
    "                        delta_W[k][j][i] = lr * delta[k][j] * A[k-1][i]\n",
    "\n",
    "        \"\"\"Update New Weight\"\"\"\n",
    "        for k in range(len(layer_node) - 1):\n",
    "            for j in range(layer_node[k + 1]):\n",
    "                for i in range(layer_node[k]):\n",
    "                    W[k][j][i] += delta_W[k][j][i]\n",
    "\n",
    "    \"\"\"validation\"\"\"\n",
    "    for batch in range(validation_batchs):\n",
    "        class_int = random.randint(0, class_num - 1)\n",
    "        list_int = random.randint(0, len(validation_data_list[class_int]) - 1)\n",
    "        img_dir = os.path.join(validation_dir, validation_class_list[class_int],\n",
    "                               validation_data_list[class_int][list_int])\n",
    "        img = mpimg.imread(img_dir)\n",
    "        img = img - 0.5\n",
    "        img.resize((layer_node[0], 1))\n",
    "        O = np.zeros(class_num, dtype=float)\n",
    "        O[class_int] = 1\n",
    "\n",
    "        \"\"\" Forward \"\"\"\n",
    "        for k in range(len(layer_node) - 1):\n",
    "            if k == 0:\n",
    "                A[k] = np.dot(W[k], img)\n",
    "            else:\n",
    "                A[k] = np.dot(W[k], A[k - 1])\n",
    "            for i in range(len(A[k])):\n",
    "                A[k][i] = 1. / (1. + math.exp(-A[k][i]))\n",
    "\n",
    "        \"\"\"ACC\"\"\"\n",
    "        ANS = A[len(layer_node) - 2].tolist()\n",
    "        maximum = max(ANS)\n",
    "        ans = ANS.index(maximum)\n",
    "        if class_int == ans:\n",
    "            validation_ACC[batch] = 1.\n",
    "        else:\n",
    "            validation_ACC[batch] = 0.\n",
    "        # print(ans)\n",
    "\n",
    "        \"\"\" MSE \"\"\"\n",
    "        MSE = 0.\n",
    "        for i in range(len(O)):\n",
    "            MSE += pow((O[i] - A[len(layer_node) - 2][i]), 2)\n",
    "        MSE /= len(O)\n",
    "        validation_MSE[batch] = MSE\n",
    "#         print(\"\\repoch\", epoch + 1, \"validation\", \"{:.2f}\".format((batch / validation_batchs) * 100),\n",
    "#               \"% : MSE =\", \"{:.6f}\".format(validation_MSE[batch]), end=\"\", flush=True)\n",
    "\n",
    "    #\n",
    "    time_E = time.time()\n",
    "    # epoch_MSE = np.mean(batch_MSE)\n",
    "    history[0][epoch] = np.mean(train_MSE)\n",
    "    history[1][epoch] = np.sum(train_ACC) / train_batchs\n",
    "    history[2][epoch] = np.mean(validation_MSE)\n",
    "    history[3][epoch] = np.sum(validation_ACC) / validation_batchs\n",
    "    # print(\"\\repoch\", epoch + 1, \": MSE =\", MSE, end=\"\")\n",
    "    print(\"\\repoch\", epoch+1, \": Train_MSE =\", \"{:.4f}\".format(history[0][epoch]),\n",
    "          \"Train_ACC =\", \"{:.2f}\".format(history[1][epoch]),\n",
    "          \"Validation_MSE =\", \"{:.4f}\".format(history[2][epoch]),\n",
    "          \"Validation_ACC =\", \"{:.2f}\".format(history[3][epoch]),\n",
    "          \"Time =\", \"{:.0f}\".format(time_E - time_S), flush=True)\n",
    "    # print(batch_MSE)\n",
    "    if history[2][epoch] < stop_MSE or epoch == epochs-1:\n",
    "        print(O)\n",
    "        print(A[len(layer_node) - 2])\n",
    "        done = True\n",
    "        break"
   ]
  },
  {
   "cell_type": "code",
   "execution_count": 6,
   "metadata": {},
   "outputs": [
    {
     "data": {
      "image/png": "[encoded data removed]",
      "text/plain": [
       "<Figure size 432x288 with 1 Axes>"
      ]
     },
     "metadata": {
      "needs_background": "light"
     },
     "output_type": "display_data"
    },
    {
     "data": {
      "image/png": "[encoded data removed]",
      "text/plain": [
       "<Figure size 432x288 with 1 Axes>"
      ]
     },
     "metadata": {
      "needs_background": "light"
     },
     "output_type": "display_data"
    }
   ],
   "source": [
    "epochs = range(1, len(history[1]) + 1)\n",
    "\n",
    "plt.plot(epochs, history[1], 'bo', label='Training acc')\n",
    "plt.plot(epochs, history[3], 'b', label='Validation acc')\n",
    "plt.title('Training and Validation accuracy')\n",
    "plt.legend()\n",
    "\n",
    "plt.figure()\n",
    "plt.plot(epochs, history[0], 'bo', label='Training loss')\n",
    "plt.plot(epochs, history[2], 'b', label='Validation loss')\n",
    "plt.title('Training and Validation loss')\n",
    "plt.legend()\n",
    "\n",
    "plt.show()"
   ]
  },
  {
   "cell_type": "code",
   "execution_count": 15,
   "metadata": {},
   "outputs": [
    {
     "name": "stdout",
     "output_type": "stream",
     "text": [
      "4000\n",
      "finish\n"
     ]
    }
   ],
   "source": [
    "# test_dir = '../../../Billy/NTPU_Deep_Learning/HW1/test'\n",
    "test_dir = '//Volumes/ADATA HD330/testing'\n",
    "test_list = os.listdir(test_dir)\n",
    "test_list.sort(key=lambda x:int(x[:-4]))\n",
    "f = open('Answer.txt', 'w', encoding = 'UTF-8')\n",
    "print(len(test_list))\n",
    "\n",
    "for j in range(len(test_list)):\n",
    "    img_dir = os.path.join(test_dir, test_list[j])\n",
    "    img = mpimg.imread(img_dir)\n",
    "    img = img - 0.5\n",
    "    img.resize((layer_node[0], 1))\n",
    "    O = np.zeros(class_num, dtype=float)\n",
    "    O[class_int] = 1\n",
    "\n",
    "    \"\"\" Forward \"\"\"\n",
    "    for k in range(len(layer_node) - 1):\n",
    "        if k == 0:\n",
    "            A[k] = np.dot(W[k], img)\n",
    "        else:\n",
    "            A[k] = np.dot(W[k], A[k - 1])\n",
    "        for i in range(len(A[k])):\n",
    "            A[k][i] = 1. / (1. + math.exp(-A[k][i]))\n",
    "            \n",
    "    ANS = A[len(layer_node) - 2].tolist()\n",
    "#     print(ANS)\n",
    "    maximum = max(ANS)\n",
    "    ans = ANS.index(maximum)\n",
    "    out = test_list[j][:-4] + ' ' + str(train_class_list[ans]) + '\\n'\n",
    "    f.write(out)\n",
    "\n",
    "print('finish')\n",
    "f.close()"
   ]
  },
  {
   "cell_type": "code",
   "execution_count": null,
   "metadata": {},
   "outputs": [],
   "source": []
  }
 ],
 "metadata": {
  "kernelspec": {
   "display_name": "Python 3",
   "language": "python",
   "name": "python3"
  },
  "language_info": {
   "codemirror_mode": {
    "name": "ipython",
    "version": 3
   },
   "file_extension": ".py",
   "mimetype": "text/x-python",
   "name": "python",
   "nbconvert_exporter": "python",
   "pygments_lexer": "ipython3",
   "version": "3.7.3"
  }
 },
 "nbformat": 4,
 "nbformat_minor": 2
}
