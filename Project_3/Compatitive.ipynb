{
 "cells": [
  {
   "cell_type": "code",
   "execution_count": 26,
   "metadata": {},
   "outputs": [],
   "source": [
    "import tensorflow.compat.v1 as tf\n",
    "tf.disable_v2_behavior()\n",
    "import numpy as np\n",
    "import csv\n",
    "import random"
   ]
  },
  {
   "cell_type": "code",
   "execution_count": 27,
   "metadata": {},
   "outputs": [],
   "source": [
    "def normalized(data):\n",
    "    data_mean = np.mean(my_data, axis=0)\n",
    "    data_std = np.std(my_data, axis=0)\n",
    "    for i in range(len(data)):\n",
    "        data[i] = (data[i] - data_mean) / data_std\n",
    "    return data"
   ]
  },
  {
   "cell_type": "code",
   "execution_count": 28,
   "metadata": {},
   "outputs": [],
   "source": [
    "def normalized2(data):\n",
    "    data_max = np.max(my_data, axis=0)\n",
    "    data_min = np.min(my_data, axis=0)\n",
    "#     print(data_max)\n",
    "#     print(data_min)\n",
    "#     print(data_max-data_min)\n",
    "    for i in range(len(data)):\n",
    "        data[i] = (data[i] - data_min) / (data_max - data_min)\n",
    "    return data"
   ]
  },
  {
   "cell_type": "code",
   "execution_count": 29,
   "metadata": {},
   "outputs": [],
   "source": [
    "def data_append(n_data, data):\n",
    "    data_ex = np.zeros((len(data), 2), dtype = 'float')\n",
    "    for i in range(len(data)):\n",
    "        data_ex[i][0] = data[i][1] / data[i][0]\n",
    "        data_ex[i][1] = data[i][3] / data[i][2]\n",
    "    data = np.concatenate((n_data, data_ex),axis=1)\n",
    "    return data"
   ]
  },
  {
   "cell_type": "code",
   "execution_count": 30,
   "metadata": {},
   "outputs": [],
   "source": [
    "def normalized4(data):\n",
    "    data_min = np.min(my_data, axis=0)\n",
    "    data_max = np.max(my_data, axis=0)\n",
    "    n_data = np.zeros(data.shape, dtype = 'int')\n",
    "    for i in range(len(data)):\n",
    "        for j in range(len(data[i])):\n",
    "            if j <4:\n",
    "                n_data[i][j] = (data[i][j] - data_min[j])*10\n",
    "            else:\n",
    "                n_data[i][j] = (data[i][j] - data_min[j])*100\n",
    "#     print(data_max)\n",
    "#     print(data_min)\n",
    "#     print(data_max-data_min)\n",
    "    return n_data"
   ]
  },
  {
   "cell_type": "code",
   "execution_count": 31,
   "metadata": {},
   "outputs": [],
   "source": [
    "def shuffle(data_full):\n",
    "    random.shuffle(data_full)\n",
    "    data = []\n",
    "    data_class = []\n",
    "#     print(data_full[0:5])\n",
    "    for i in range(len(data_full)):\n",
    "        data.append(data_full[i][0:4])\n",
    "        data_class.append(data_full[i][4])\n",
    "#     print(data[0:5])\n",
    "#     print(data_class[0:5])\n",
    "    return data, data_class"
   ]
  },
  {
   "cell_type": "code",
   "execution_count": 43,
   "metadata": {},
   "outputs": [
    {
     "name": "stdout",
     "output_type": "stream",
     "text": [
      "[7.2 3.  5.8 1.6]\n",
      "[29 10 48 15]\n"
     ]
    }
   ],
   "source": [
    "data = []\n",
    "data_class = []\n",
    "data_full = []\n",
    "with open('./iris.csv') as f:\n",
    "    myCsv = csv.reader(f)\n",
    "    headers = next(myCsv)\n",
    "    for row in myCsv:\n",
    "        data_full.append(row)\n",
    "\n",
    "data_count = len(data)\n",
    "data, data_class = shuffle(data_full)\n",
    "my_data = np.array(data, dtype = 'float')\n",
    "print(my_data[0])\n",
    "n_data = normalized4(my_data)\n",
    "print(n_data[0])"
   ]
  },
  {
   "cell_type": "code",
   "execution_count": 33,
   "metadata": {},
   "outputs": [],
   "source": [
    "W = []\n",
    "M = 150\n",
    "N = 24\n",
    "nc = 3"
   ]
  },
  {
   "cell_type": "code",
   "execution_count": 34,
   "metadata": {},
   "outputs": [],
   "source": [
    "def get_weights():\n",
    "    y = np.random.random() * (2.0 / np.sqrt(M))\n",
    "    return 0.1 - (1 / np.sqrt(M)) + y"
   ]
  },
  {
   "cell_type": "code",
   "execution_count": 35,
   "metadata": {},
   "outputs": [
    {
     "name": "stdout",
     "output_type": "stream",
     "text": [
      "[[0.05825471104257193, 0.04392843603533553, 0.08874040506473155, 0.020041332793213566, 0.07073236426322224, 0.08347894785026089, 0.019665958308310076, 0.031780755587518486, 0.053224606580861256, 0.038183998514026415, 0.013956799007366218, 0.03974951336615873, 0.0813504979007306, 0.019940764802533935, 0.07411137931221035, 0.04309913064381354, 0.06551048784656326, 0.05892782824527514, 0.055583063107854554, 0.010607971639133278, 0.05792214941297596, 0.04365509310532373, 0.0826763267724673, 0.010789071246799547], [0.04959451568753484, 0.05659032522573807, 0.05737849159009811, 0.054318732386020925, 0.05293102564798401, 0.0781249688146515, 0.07907652905802019, 0.049368775902753535, 0.07872091968566228, 0.01081105273193728, 0.0786271161615992, 0.010209802262471954, 0.08758805954239056, 0.03301308364561536, 0.057212859327640836, 0.04394578240229014, 0.04885961376091795, 0.0890229695611915, 0.01978411430849439, 0.07908797122654901, 0.019790824692194404, 0.07327983682353192, 0.0585063724726583, 0.025921727533247715], [0.0873049520592219, 0.028286652530243966, 0.04301698770459536, 0.0838413180601971, 0.032359708561051984, 0.0901555106777807, 0.02918919854337547, 0.023649448136724302, 0.0385804543735377, 0.06413991142097702, 0.03675687766712279, 0.019667314188394056, 0.07583470757149083, 0.03634458131185635, 0.036779745982366746, 0.048765559413748404, 0.03259949909637973, 0.031892689579493, 0.0441690467182872, 0.04780675190164635, 0.06067202891142815, 0.02319397070977055, 0.00974490354868233, 0.06594032085680696]]\n",
      "[[0.05825471 0.04392844 0.08874041 0.02004133 0.07073236 0.08347895\n",
      "  0.01966596 0.03178076 0.05322461 0.038184   0.0139568  0.03974951\n",
      "  0.0813505  0.01994076 0.07411138 0.04309913 0.06551049 0.05892783\n",
      "  0.05558306 0.01060797 0.05792215 0.04365509 0.08267633 0.01078907]\n",
      " [0.04959452 0.05659033 0.05737849 0.05431873 0.05293103 0.07812497\n",
      "  0.07907653 0.04936878 0.07872092 0.01081105 0.07862712 0.0102098\n",
      "  0.08758806 0.03301308 0.05721286 0.04394578 0.04885961 0.08902297\n",
      "  0.01978411 0.07908797 0.01979082 0.07327984 0.05850637 0.02592173]\n",
      " [0.08730495 0.02828665 0.04301699 0.08384132 0.03235971 0.09015551\n",
      "  0.0291892  0.02364945 0.03858045 0.06413991 0.03675688 0.01966731\n",
      "  0.07583471 0.03634458 0.03677975 0.04876556 0.0325995  0.03189269\n",
      "  0.04416905 0.04780675 0.06067203 0.02319397 0.0097449  0.06594032]]\n",
      "[[0.05825471 0.04959452 0.08730495]\n",
      " [0.04392844 0.05659033 0.02828665]\n",
      " [0.08874041 0.05737849 0.04301699]\n",
      " [0.02004133 0.05431873 0.08384132]\n",
      " [0.07073236 0.05293103 0.03235971]\n",
      " [0.08347895 0.07812497 0.09015551]\n",
      " [0.01966596 0.07907653 0.0291892 ]\n",
      " [0.03178076 0.04936878 0.02364945]\n",
      " [0.05322461 0.07872092 0.03858045]\n",
      " [0.038184   0.01081105 0.06413991]\n",
      " [0.0139568  0.07862712 0.03675688]\n",
      " [0.03974951 0.0102098  0.01966731]\n",
      " [0.0813505  0.08758806 0.07583471]\n",
      " [0.01994076 0.03301308 0.03634458]\n",
      " [0.07411138 0.05721286 0.03677975]\n",
      " [0.04309913 0.04394578 0.04876556]\n",
      " [0.06551049 0.04885961 0.0325995 ]\n",
      " [0.05892783 0.08902297 0.03189269]\n",
      " [0.05558306 0.01978411 0.04416905]\n",
      " [0.01060797 0.07908797 0.04780675]\n",
      " [0.05792215 0.01979082 0.06067203]\n",
      " [0.04365509 0.07327984 0.02319397]\n",
      " [0.08267633 0.05850637 0.0097449 ]\n",
      " [0.01078907 0.02592173 0.06594032]]\n"
     ]
    }
   ],
   "source": [
    "for i in range(nc):\n",
    "    W.append(list())\n",
    "    for j in range(N):\n",
    "        W[i].append(get_weights()*0.5)\n",
    "print(W)\n",
    "wwe = np.array(W, dtype='float')\n",
    "print(wwe)\n",
    "wwe = wwe.T\n",
    "print(wwe)"
   ]
  },
  {
   "cell_type": "code",
   "execution_count": 36,
   "metadata": {},
   "outputs": [],
   "source": [
    "def initWeight(input_dim, output_dim):\n",
    "    return tf.Variable(tf.nn.softmax(tf.random_normal([input_dim, output_dim]), axis=0), name='Weight')"
   ]
  },
  {
   "cell_type": "code",
   "execution_count": 37,
   "metadata": {},
   "outputs": [],
   "source": [
    "def forward(input_dim, output_dim, inputs, Weight):\n",
    "    outputs = tf.matmul(inputs, Weight)\n",
    "    return outputs  "
   ]
  },
  {
   "cell_type": "code",
   "execution_count": 38,
   "metadata": {},
   "outputs": [],
   "source": [
    "def update(inputs, outputs, Weight, g):\n",
    "    tmp = 0\n",
    "    ans = 0\n",
    "    for i in range(len(outputs[0])):\n",
    "        if outputs[0][i] > tmp:\n",
    "            ans = i\n",
    "            tmp = outputs[0][i]        \n",
    "    M = np.sum(inputs[0])\n",
    "    for i in range(len(inputs[0])):\n",
    "        Weight[i][ans] += ((inputs[0][i]/M) - Weight[i][ans])*g\n",
    "    return Weight"
   ]
  },
  {
   "cell_type": "code",
   "execution_count": 39,
   "metadata": {},
   "outputs": [],
   "source": [
    "def predict(inputs, Weight):\n",
    "    (layer_X, layer_y) = sess.run((X, y), feed_dict={X:inputs, _W:Weight})\n",
    "    tmp = 0\n",
    "    ans = 0\n",
    "    for i in range(len(layer_y[0])):\n",
    "        if layer_y[0][i] > tmp:\n",
    "            ans = i\n",
    "            tmp = layer_y[0][i]  \n",
    "#     print(ans)\n",
    "    return ans"
   ]
  },
  {
   "cell_type": "code",
   "execution_count": 40,
   "metadata": {},
   "outputs": [],
   "source": [
    "def encode(X_array):\n",
    "    en_array = np.zeros(24)\n",
    "    for i in range(len(X_array[0])):\n",
    "        x = X_array[0][i]\n",
    "        x_trans = np.zeros(6)\n",
    "        key = 0\n",
    "        while(x != 0):\n",
    "            x_trans[key] = x % 2\n",
    "            x = int(x /2)\n",
    "            key += 1\n",
    "        en_array[i*6:(i+1)*6] = x_trans\n",
    "    en_array = en_array.reshape((1, 24))\n",
    "    return en_array"
   ]
  },
  {
   "cell_type": "code",
   "execution_count": 42,
   "metadata": {
    "scrolled": true
   },
   "outputs": [
    {
     "name": "stdout",
     "output_type": "stream",
     "text": [
      "Processing fold # 0\n",
      "epoch: 200 / 200\n",
      " [[1 1 6]\n",
      " [7 2 2]\n",
      " [3 4 4]]\n",
      "Processing fold # 1\n",
      "epoch: 200 / 200\n",
      " [[10  0  0]\n",
      " [ 5  1  1]\n",
      " [ 6  1  6]]\n",
      "Processing fold # 2\n",
      "epoch: 200 / 200\n",
      " [[ 5  0  4]\n",
      " [ 2 11  2]\n",
      " [ 4  2  0]]\n",
      "Processing fold # 3\n",
      "epoch: 200 / 200\n",
      " [[ 0 11  0]\n",
      " [ 0  3  8]\n",
      " [ 6  2  0]]\n",
      "Processing fold # 4\n",
      "epoch: 200 / 200\n",
      " [[ 0 12  0]\n",
      " [ 0  0  6]\n",
      " [ 8  2  2]]\n",
      "\n",
      " [[ 0 50  0]\n",
      " [ 4  6 40]\n",
      " [36  8  6]]\n"
     ]
    }
   ],
   "source": [
    "epochs = 200\n",
    "k = 5  # use k-flod\n",
    "num_val = len(n_data)//k\n",
    "g = 0.6\n",
    "input_num = 24\n",
    "output_num = 3\n",
    "# ans_count = np.zeros((3, 3), dtype=np.int)\n",
    "\n",
    "X = tf.placeholder(\"float\", [None, input_num])\n",
    "_W = initWeight(input_dim = input_num, output_dim = output_num)\n",
    "y = forward(input_dim = input_num, output_dim = output_num, inputs = X, Weight = _W)\n",
    "\n",
    "\n",
    "with tf.Session() as sess:\n",
    "    init = tf.global_variables_initializer()\n",
    "    sess.run(init)\n",
    "    Weights = sess.run(_W)\n",
    "#     Weights = wwe\n",
    "#     print(Weights)\n",
    "    for n in range(k):\n",
    "        print('Processing fold #', n)\n",
    "        val_data = n_data[n * num_val: (n + 1) * num_val]\n",
    "        val_class = data_class[n * num_val: (n + 1) * num_val]\n",
    "        train_data = np.concatenate([n_data[:n * num_val], n_data[(n + 1) * num_val:]], axis=0)\n",
    "        for epoch in range(epochs):\n",
    "#             if epoch==epochs/2:\n",
    "#                 g = 0.7\n",
    "            for i in range(len(train_data)):\n",
    "                key = random.randint(0, len(train_data)-1)\n",
    "                X_array = np.array([train_data[key]])\n",
    "                X_array = encode(X_array)\n",
    "                (layer_X, layer_y) = sess.run((X, y), feed_dict={X:X_array, _W:Weights})\n",
    "                Weights = update(layer_X, layer_y, Weights, g)\n",
    "            print(\"epoch: {:d} / {:d}\".format(epoch+1, epochs), end=\"\\r\", flush=True)\n",
    "#     print(\"\\n\",Weights)\n",
    "        ans_count = np.zeros((3, 3), dtype=np.int)\n",
    "        for i in range(len(val_data)):\n",
    "            X_array = np.array([val_data[i]])\n",
    "            X_array = encode(X_array)\n",
    "            ans = predict(X_array, Weights)\n",
    "            if val_class[i] == 'Setosa':\n",
    "                ans_count[0][ans] += 1\n",
    "            if val_class[i] == 'Versicolor':\n",
    "                ans_count[1][ans] += 1\n",
    "            if val_class[i] == 'Virginica':\n",
    "                ans_count[2][ans] += 1\n",
    "        print(\"\\n\",ans_count)\n",
    "        g -= 0.1\n",
    "    ans_count = np.zeros((3, 3), dtype=np.int)\n",
    "    for i in range(len(n_data)):\n",
    "        X_array = np.array([n_data[i]])\n",
    "        X_array = encode(X_array)\n",
    "        ans = predict(X_array, Weights)\n",
    "        if data_class[i] == 'Setosa':\n",
    "            ans_count[0][ans] += 1\n",
    "        if data_class[i] == 'Versicolor':\n",
    "            ans_count[1][ans] += 1\n",
    "        if data_class[i] == 'Virginica':\n",
    "            ans_count[2][ans] += 1\n",
    "    print(\"\\n\",ans_count)     "
   ]
  },
  {
   "cell_type": "code",
   "execution_count": 32,
   "metadata": {},
   "outputs": [],
   "source": [
    "def encode(X_array):\n",
    "    en_array = np.zeros( 24)\n",
    "    for i in range(len(X_array[0])):\n",
    "        x = X_array[0][i]\n",
    "        x_trans = np.zeros(6)\n",
    "        key = 0\n",
    "        while(x != 0):\n",
    "            x_trans[key] = x % 2\n",
    "            x = int(x /2)\n",
    "            key += 1\n",
    "        en_array[i*6:(i+1)*6] = x_trans\n",
    "    en_array = en_array.reshape((1, 24))\n",
    "    return en_array"
   ]
  },
  {
   "cell_type": "code",
   "execution_count": 33,
   "metadata": {},
   "outputs": [],
   "source": [
    "X_array = np.array([n_data[0]])\n",
    "X_array = encode(X_array)"
   ]
  },
  {
   "cell_type": "code",
   "execution_count": 82,
   "metadata": {},
   "outputs": [
    {
     "name": "stdout",
     "output_type": "stream",
     "text": [
      "30\n",
      "120\n"
     ]
    }
   ],
   "source": [
    "num_val = len(n_data)//k\n",
    "print(num_val)\n",
    "train_data = np.concatenate([n_data[:n * num_val], n_data[(i + 1) * num_val:]], axis=0)\n",
    "print(len(train_data))\n",
    "key = random.randint(0, len(train_data)-1)"
   ]
  },
  {
   "cell_type": "code",
   "execution_count": null,
   "metadata": {},
   "outputs": [],
   "source": [
    "print()"
   ]
  },
  {
   "cell_type": "code",
   "execution_count": null,
   "metadata": {},
   "outputs": [],
   "source": []
  }
 ],
 "metadata": {
  "kernelspec": {
   "display_name": "Python 3",
   "language": "python",
   "name": "python3"
  },
  "language_info": {
   "codemirror_mode": {
    "name": "ipython",
    "version": 3
   },
   "file_extension": ".py",
   "mimetype": "text/x-python",
   "name": "python",
   "nbconvert_exporter": "python",
   "pygments_lexer": "ipython3",
   "version": "3.7.5"
  }
 },
 "nbformat": 4,
 "nbformat_minor": 2
}
